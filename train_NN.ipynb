{
  "nbformat": 4,
  "nbformat_minor": 0,
  "metadata": {
    "colab": {
      "name": "train_NN.ipynb",
      "provenance": [],
      "collapsed_sections": []
    },
    "kernelspec": {
      "name": "python3",
      "display_name": "Python 3"
    },
    "language_info": {
      "name": "python"
    }
  },
  "cells": [
    {
      "cell_type": "code",
      "execution_count": 36,
      "metadata": {
        "id": "yIfYedKNnWPB"
      },
      "outputs": [],
      "source": [
        "#So let's study how to make NN\n",
        "#Imports\n",
        "import torch\n",
        "import numpy as np\n",
        "import matplotlib.pyplot as plt\n",
        "import torch.nn as nn\n",
        "import torch.optim as optim\n",
        "import torch.nn.functional as F\n",
        "from torch.utils.data import DataLoader,TensorDataset\n",
        "import torchvision.datasets as datasets\n",
        "import torchvision.transforms as transforms\n",
        "from sklearn.metrics import balanced_accuracy_score\n",
        "from sklearn.model_selection import train_test_split # just help us to make train and test dataset "
      ]
    },
    {
      "cell_type": "code",
      "source": [
        "class my_nn(nn.Module):\n",
        "  def __init__(self,open_size,input_size1,input_size2,input_size3, n_classes):\n",
        "      super(my_nn,self).__init__()\n",
        "      self.fc1 = nn.Linear(open_size,input_size1)\n",
        "      self.act1 = nn.Sigmoid()\n",
        "      self.fc2 = nn.Linear(input_size1,input_size2)\n",
        "      self.act2= nn.Sigmoid()\n",
        "      self.fc3 = nn.Linear(input_size2,input_size3)\n",
        "      self.act3 =nn.Sigmoid()\n",
        "      self.fc4 = nn.Linear(input_size3,n_classes)\n",
        "  def forward (self,x):\n",
        "    x = self.fc1(x)\n",
        "    x = self.act1(x)\n",
        "    x = self.fc2(x)\n",
        "    x = self.act2(x)\n",
        "    x = self.fc3(x)\n",
        "    x = self.act3(x)\n",
        "    x = self.fc4(x)\n",
        "    return F.log_softmax(x, dim=1)"
      ],
      "metadata": {
        "id": "pbqa9e0Bomp6"
      },
      "execution_count": 37,
      "outputs": []
    },
    {
      "cell_type": "code",
      "source": [
        "device = torch.device('cuda' if torch.cuda.is_available() else 'cpu')\n",
        "print(f\"Right now you used: {device}\")"
      ],
      "metadata": {
        "colab": {
          "base_uri": "https://localhost:8080/"
        },
        "id": "jhCeoWopLGYc",
        "outputId": "19a4e80a-d281-4332-c4d8-18e5272762d4"
      },
      "execution_count": 38,
      "outputs": [
        {
          "output_type": "stream",
          "name": "stdout",
          "text": [
            "Right now you used: cpu\n"
          ]
        }
      ]
    },
    {
      "cell_type": "code",
      "source": [
        "mnist_shape = 784  #28x28\n",
        "input_size1 = 40\n",
        "input_size2 = 100\n",
        "input_size3 = 200\n",
        "n_classes = 10\n",
        "nn_my = my_nn(mnist_shape,input_size1,input_size2,input_size3,n_classes).to(device)\n",
        "print(nn_my)"
      ],
      "metadata": {
        "colab": {
          "base_uri": "https://localhost:8080/"
        },
        "id": "sukKURNHt1UJ",
        "outputId": "4d65ecb1-0c7a-43ed-93aa-5bcb8ff8f4d8"
      },
      "execution_count": 39,
      "outputs": [
        {
          "output_type": "stream",
          "name": "stdout",
          "text": [
            "my_nn(\n",
            "  (fc1): Linear(in_features=784, out_features=40, bias=True)\n",
            "  (act1): Sigmoid()\n",
            "  (fc2): Linear(in_features=40, out_features=100, bias=True)\n",
            "  (act2): Sigmoid()\n",
            "  (fc3): Linear(in_features=100, out_features=200, bias=True)\n",
            "  (act3): Sigmoid()\n",
            "  (fc4): Linear(in_features=200, out_features=10, bias=True)\n",
            ")\n"
          ]
        }
      ]
    },
    {
      "cell_type": "code",
      "source": [
        "lr1 = 10**(-3)\n",
        "print(f\"learning_rate: {lr1}\")\n",
        "batch_size1 = 64 # good tone to used batch \n",
        "batch_size2 = 8"
      ],
      "metadata": {
        "colab": {
          "base_uri": "https://localhost:8080/"
        },
        "id": "ccMV_N0Swbc6",
        "outputId": "e909b491-10cf-4dd5-81a4-2d5e64d55b0e"
      },
      "execution_count": 40,
      "outputs": [
        {
          "output_type": "stream",
          "name": "stdout",
          "text": [
            "learning_rate: 0.001\n"
          ]
        }
      ]
    },
    {
      "cell_type": "code",
      "source": [
        "from numpy import genfromtxt\n",
        "my_data = genfromtxt('sample_data/mnist_train_small.csv', delimiter=',') #default folder in colab"
      ],
      "metadata": {
        "id": "krQh2cFz16_x"
      },
      "execution_count": 41,
      "outputs": []
    },
    {
      "cell_type": "code",
      "source": [
        "print(my_data.shape)"
      ],
      "metadata": {
        "colab": {
          "base_uri": "https://localhost:8080/"
        },
        "id": "5qyXUHTJNgEM",
        "outputId": "40b9ca27-d745-409e-d527-7c7572fcf241"
      },
      "execution_count": 42,
      "outputs": [
        {
          "output_type": "stream",
          "name": "stdout",
          "text": [
            "(20000, 785)\n"
          ]
        }
      ]
    },
    {
      "cell_type": "code",
      "source": [
        "y_real = my_data[:,0]\n",
        "print(y_real.shape)\n",
        "\n"
      ],
      "metadata": {
        "id": "PXYx6azN21ez",
        "colab": {
          "base_uri": "https://localhost:8080/"
        },
        "outputId": "f0d93858-f20c-4a0e-b84e-fbe982181520"
      },
      "execution_count": 43,
      "outputs": [
        {
          "output_type": "stream",
          "name": "stdout",
          "text": [
            "(20000,)\n"
          ]
        }
      ]
    },
    {
      "cell_type": "code",
      "source": [
        "X_real = my_data[:,1:785]\n",
        "\n",
        "print(X_real.shape)\n"
      ],
      "metadata": {
        "colab": {
          "base_uri": "https://localhost:8080/"
        },
        "id": "ogJSuuEcKxrb",
        "outputId": "5eabc193-19b7-4c57-d9d1-6080c799359b"
      },
      "execution_count": 44,
      "outputs": [
        {
          "output_type": "stream",
          "name": "stdout",
          "text": [
            "(20000, 784)\n"
          ]
        }
      ]
    },
    {
      "cell_type": "code",
      "source": [
        "X_train, X_test, y_train, y_test = train_test_split(X_real, y_real, random_state=0)"
      ],
      "metadata": {
        "id": "yR6DMG5am-f2"
      },
      "execution_count": 45,
      "outputs": []
    },
    {
      "cell_type": "code",
      "source": [
        "X_train_t = torch.tensor(X_train/255.0)\n",
        "Y_train_t = torch.tensor(y_train) \n",
        "\n",
        "X_test_t = torch.tensor(X_test/255.0)\n",
        "Y_test_t = torch.tensor(y_test)\n",
        "train_dataset = TensorDataset(X_train_t, Y_train_t)\n",
        "test_dataset = TensorDataset(X_test_t, Y_test_t)"
      ],
      "metadata": {
        "id": "oqfy1ABS0eIR"
      },
      "execution_count": 46,
      "outputs": []
    },
    {
      "cell_type": "code",
      "source": [
        "# loss_function = nn.BCEWithLogitsLoss()\n",
        "loss_function = nn.CrossEntropyLoss()\n",
        "optimaizer = optim.Adam(nn_my.parameters(),lr = lr1)"
      ],
      "metadata": {
        "id": "dB3doM0V5lMf"
      },
      "execution_count": 47,
      "outputs": []
    },
    {
      "cell_type": "code",
      "source": [
        "#Making data_loader \n",
        "train_dataloader = DataLoader(dataset =train_dataset, batch_size=batch_size1,shuffle=True)\n",
        "test_dataloader = DataLoader(dataset =test_dataset, batch_size=batch_size2,shuffle=True)"
      ],
      "metadata": {
        "id": "tksqAOBi9BIO"
      },
      "execution_count": 48,
      "outputs": []
    },
    {
      "cell_type": "code",
      "source": [
        "def metrics_fn():\n",
        "   correct_test = 0\n",
        "   total_test = 0\n",
        "   correct_train =0\n",
        "   total_train = 0\n",
        "   with torch.no_grad():\n",
        "    for data in test_dataloader:\n",
        "        X, y = data\n",
        "        X = X.float()\n",
        "        y =y.long()\n",
        "\n",
        "        output = nn_my(X.view(-1,784))\n",
        "        for idx, i in enumerate(output):\n",
        "            if torch.argmax(i) == y[idx]:\n",
        "                correct_test += 1\n",
        "            total_test += 1\n",
        "    for data in train_dataloader:\n",
        "        X, y = data\n",
        "        X = X.float()\n",
        "        y =y.long()\n",
        "\n",
        "        output = nn_my(X.view(-1,784))\n",
        "        for idx, i in enumerate(output):\n",
        "            if torch.argmax(i) == y[idx]:\n",
        "                correct_train += 1\n",
        "            total_train += 1\n",
        "   output = nn_my(X.view(-1,784))  \n",
        "   test_loss = F.nll_loss(output, y)\n",
        "   score_on_test = round(correct_test/total_test, 3)\n",
        "   score_on_train = round(correct_train/total_train, 3)\n",
        "\n",
        "   return score_on_test,score_on_train,test_loss\n",
        "\n",
        "\n",
        "  \n",
        "\n"
      ],
      "metadata": {
        "id": "mq8YPP5JoFNG"
      },
      "execution_count": 49,
      "outputs": []
    },
    {
      "cell_type": "code",
      "source": [
        "def train_fc(max_epoch,model,optimaizer,loss_function):\n",
        "  for epoch in range(max_epoch):\n",
        "    for iter, (data,target) in enumerate(train_dataloader):\n",
        "      optimaizer.zero_grad()\n",
        "      data = data.float()\n",
        "      target =target.long()\n",
        "      nn_my.zero_grad()  \n",
        "      output = nn_my(data.view(-1,784))  \n",
        "      loss = F.nll_loss(output, target)\n",
        "      loss.backward() \n",
        "      optimaizer.step()\n",
        "      if (iter + epoch * len(train_dataloader)) % 5 == 0:\n",
        "        score_on_test,score_on_train,test_loss = metrics_fn()\n",
        "        print(f\"Iteration №: {iter + epoch * len(train_dataloader)}\")\n",
        "        print(f\"loss: {loss}\")\n",
        "        print(f\"test_loss: {test_loss}\")\n",
        "        print(f\"Score_on_test_dataset: {score_on_test}\")\n",
        "        print(f\"Score_on_test_dataset: {score_on_train}\")\n",
        "\n",
        "  return loss"
      ],
      "metadata": {
        "id": "jexqJVxh7B94"
      },
      "execution_count": 50,
      "outputs": []
    },
    {
      "cell_type": "code",
      "source": [
        "losses = train_fc(3, nn_my,optimaizer,loss_function)"
      ],
      "metadata": {
        "id": "xNcWoXjFSEU0"
      },
      "execution_count": null,
      "outputs": []
    },
    {
      "cell_type": "code",
      "source": [
        "#lets choose random number from test_dataset \n",
        "import random as lol\n",
        "\n",
        "number_rand = lol.randint(0,len(X_test))\n",
        "print(number_rand)"
      ],
      "metadata": {
        "colab": {
          "base_uri": "https://localhost:8080/"
        },
        "id": "X2YuEBEd_6I4",
        "outputId": "62a6d408-788e-4b15-d8b9-81d90a7c5e51"
      },
      "execution_count": 80,
      "outputs": [
        {
          "output_type": "stream",
          "name": "stdout",
          "text": [
            "2642\n"
          ]
        }
      ]
    },
    {
      "cell_type": "code",
      "source": [
        "# some_digit.reshape(28, 28)\n",
        "some_number= (X_test[number_rand]/255.0).reshape(28,28)\n",
        "some_number1 = X_test_t[number_rand].float()\n",
        "output = nn_my(some_number1.view(-1,784)) \n",
        "pred = output[0]\n",
        "index_is = torch.argmax(pred)\n",
        "plt.title(f\"predict number is :{index_is}, so real number is {y_test[number_rand]}\")\n",
        "plt.imshow(some_number)\n",
        "plt.show()\n"
      ],
      "metadata": {
        "colab": {
          "base_uri": "https://localhost:8080/",
          "height": 280
        },
        "id": "1Qrm0UN9ygKb",
        "outputId": "8ec26332-ce39-4fea-8492-3c5cf64d13dd"
      },
      "execution_count": 81,
      "outputs": [
        {
          "output_type": "display_data",
          "data": {
            "text/plain": [
              "<Figure size 432x288 with 1 Axes>"
            ],
            "image/png": "[encoded data removed]"
          },
          "metadata": {
            "needs_background": "light"
          }
        }
      ]
    },
    {
      "cell_type": "markdown",
      "source": [
        "#So today we have done here"
      ],
      "metadata": {
        "id": "EYKDiJv2_lIp"
      }
    }
  ]
}