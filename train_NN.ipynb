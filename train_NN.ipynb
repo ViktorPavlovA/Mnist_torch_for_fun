{
  "nbformat": 4,
  "nbformat_minor": 0,
  "metadata": {
    "colab": {
      "name": "train_NN.ipynb",
      "provenance": [],
      "collapsed_sections": []
    },
    "kernelspec": {
      "name": "python3",
      "display_name": "Python 3"
    },
    "language_info": {
      "name": "python"
    }
  },
  "cells": [
    {
      "cell_type": "code",
      "execution_count": 36,
      "metadata": {
        "id": "yIfYedKNnWPB"
      },
      "outputs": [],
      "source": [
        "#So let's study how to make NN\n",
        "#Imports\n",
        "import torch\n",
        "import numpy as np\n",
        "import matplotlib.pyplot as plt\n",
        "import torch.nn as nn\n",
        "import torch.optim as optim\n",
        "import torch.nn.functional as F\n",
        "from torch.utils.data import DataLoader,TensorDataset\n",
        "import torchvision.datasets as datasets\n",
        "import torchvision.transforms as transforms\n",
        "from sklearn.metrics import balanced_accuracy_score\n",
        "from sklearn.model_selection import train_test_split # just help us to make train and test dataset "
      ]
    },
    {
      "cell_type": "code",
      "source": [
        "class my_nn(nn.Module):\n",
        "  def __init__(self,open_size,input_size1,input_size2,input_size3, n_classes):\n",
        "      super(my_nn,self).__init__()\n",
        "      self.fc1 = nn.Linear(open_size,input_size1)\n",
        "      self.act1 = nn.Sigmoid()\n",
        "      self.fc2 = nn.Linear(input_size1,input_size2)\n",
        "      self.act2= nn.Sigmoid()\n",
        "      self.fc3 = nn.Linear(input_size2,input_size3)\n",
        "      self.act3 =nn.Sigmoid()\n",
        "      self.fc4 = nn.Linear(input_size3,n_classes)\n",
        "  def forward (self,x):\n",
        "    x = self.fc1(x)\n",
        "    x = self.act1(x)\n",
        "    x = self.fc2(x)\n",
        "    x = self.act2(x)\n",
        "    x = self.fc3(x)\n",
        "    x = self.act3(x)\n",
        "    x = self.fc4(x)\n",
        "    return F.log_softmax(x, dim=1)"
      ],
      "metadata": {
        "id": "pbqa9e0Bomp6"
      },
      "execution_count": 37,
      "outputs": []
    },
    {
      "cell_type": "code",
      "source": [
        "device = torch.device('cuda' if torch.cuda.is_available() else 'cpu')\n",
        "print(f\"Right now you used: {device}\")"
      ],
      "metadata": {
        "colab": {
          "base_uri": "https://localhost:8080/"
        },
        "id": "jhCeoWopLGYc",
        "outputId": "19a4e80a-d281-4332-c4d8-18e5272762d4"
      },
      "execution_count": 38,
      "outputs": [
        {
          "output_type": "stream",
          "name": "stdout",
          "text": [
            "Right now you used: cpu\n"
          ]
        }
      ]
    },
    {
      "cell_type": "code",
      "source": [
        "mnist_shape = 784  #28x28\n",
        "input_size1 = 40\n",
        "input_size2 = 100\n",
        "input_size3 = 200\n",
        "n_classes = 10\n",
        "nn_my = my_nn(mnist_shape,input_size1,input_size2,input_size3,n_classes).to(device)\n",
        "print(nn_my)"
      ],
      "metadata": {
        "colab": {
          "base_uri": "https://localhost:8080/"
        },
        "id": "sukKURNHt1UJ",
        "outputId": "4d65ecb1-0c7a-43ed-93aa-5bcb8ff8f4d8"
      },
      "execution_count": 39,
      "outputs": [
        {
          "output_type": "stream",
          "name": "stdout",
          "text": [
            "my_nn(\n",
            "  (fc1): Linear(in_features=784, out_features=40, bias=True)\n",
            "  (act1): Sigmoid()\n",
            "  (fc2): Linear(in_features=40, out_features=100, bias=True)\n",
            "  (act2): Sigmoid()\n",
            "  (fc3): Linear(in_features=100, out_features=200, bias=True)\n",
            "  (act3): Sigmoid()\n",
            "  (fc4): Linear(in_features=200, out_features=10, bias=True)\n",
            ")\n"
          ]
        }
      ]
    },
    {
      "cell_type": "code",
      "source": [
        "lr1 = 10**(-3)\n",
        "print(f\"learning_rate: {lr1}\")\n",
        "batch_size1 = 64 # good tone to used batch \n",
        "batch_size2 = 8"
      ],
      "metadata": {
        "colab": {
          "base_uri": "https://localhost:8080/"
        },
        "id": "ccMV_N0Swbc6",
        "outputId": "e909b491-10cf-4dd5-81a4-2d5e64d55b0e"
      },
      "execution_count": 40,
      "outputs": [
        {
          "output_type": "stream",
          "name": "stdout",
          "text": [
            "learning_rate: 0.001\n"
          ]
        }
      ]
    },
    {
      "cell_type": "code",
      "source": [
        "from numpy import genfromtxt\n",
        "my_data = genfromtxt('sample_data/mnist_train_small.csv', delimiter=',') #default folder in colab"
      ],
      "metadata": {
        "id": "krQh2cFz16_x"
      },
      "execution_count": 41,
      "outputs": []
    },
    {
      "cell_type": "code",
      "source": [
        "print(my_data.shape)"
      ],
      "metadata": {
        "colab": {
          "base_uri": "https://localhost:8080/"
        },
        "id": "5qyXUHTJNgEM",
        "outputId": "40b9ca27-d745-409e-d527-7c7572fcf241"
      },
      "execution_count": 42,
      "outputs": [
        {
          "output_type": "stream",
          "name": "stdout",
          "text": [
            "(20000, 785)\n"
          ]
        }
      ]
    },
    {
      "cell_type": "code",
      "source": [
        "y_real = my_data[:,0]\n",
        "print(y_real.shape)\n",
        "\n"
      ],
      "metadata": {
        "id": "PXYx6azN21ez",
        "colab": {
          "base_uri": "https://localhost:8080/"
        },
        "outputId": "f0d93858-f20c-4a0e-b84e-fbe982181520"
      },
      "execution_count": 43,
      "outputs": [
        {
          "output_type": "stream",
          "name": "stdout",
          "text": [
            "(20000,)\n"
          ]
        }
      ]
    },
    {
      "cell_type": "code",
      "source": [
        "X_real = my_data[:,1:785]\n",
        "\n",
        "print(X_real.shape)\n"
      ],
      "metadata": {
        "colab": {
          "base_uri": "https://localhost:8080/"
        },
        "id": "ogJSuuEcKxrb",
        "outputId": "5eabc193-19b7-4c57-d9d1-6080c799359b"
      },
      "execution_count": 44,
      "outputs": [
        {
          "output_type": "stream",
          "name": "stdout",
          "text": [
            "(20000, 784)\n"
          ]
        }
      ]
    },
    {
      "cell_type": "code",
      "source": [
        "X_train, X_test, y_train, y_test = train_test_split(X_real, y_real, random_state=0)"
      ],
      "metadata": {
        "id": "yR6DMG5am-f2"
      },
      "execution_count": 45,
      "outputs": []
    },
    {
      "cell_type": "code",
      "source": [
        "X_train_t = torch.tensor(X_train/255.0)\n",
        "Y_train_t = torch.tensor(y_train) \n",
        "\n",
        "X_test_t = torch.tensor(X_test/255.0)\n",
        "Y_test_t = torch.tensor(y_test)\n",
        "train_dataset = TensorDataset(X_train_t, Y_train_t)\n",
        "test_dataset = TensorDataset(X_test_t, Y_test_t)"
      ],
      "metadata": {
        "id": "oqfy1ABS0eIR"
      },
      "execution_count": 46,
      "outputs": []
    },
    {
      "cell_type": "code",
      "source": [
        "# loss_function = nn.BCEWithLogitsLoss()\n",
        "loss_function = nn.CrossEntropyLoss()\n",
        "optimaizer = optim.Adam(nn_my.parameters(),lr = lr1)"
      ],
      "metadata": {
        "id": "dB3doM0V5lMf"
      },
      "execution_count": 47,
      "outputs": []
    },
    {
      "cell_type": "code",
      "source": [
        "#Making data_loader \n",
        "train_dataloader = DataLoader(dataset =train_dataset, batch_size=batch_size1,shuffle=True)\n",
        "test_dataloader = DataLoader(dataset =test_dataset, batch_size=batch_size2,shuffle=True)"
      ],
      "metadata": {
        "id": "tksqAOBi9BIO"
      },
      "execution_count": 48,
      "outputs": []
    },
    {
      "cell_type": "code",
      "source": [
        "def metrics_fn():\n",
        "   correct_test = 0\n",
        "   total_test = 0\n",
        "   correct_train =0\n",
        "   total_train = 0\n",
        "   with torch.no_grad():\n",
        "    for data in test_dataloader:\n",
        "        X, y = data\n",
        "        X = X.float()\n",
        "        y =y.long()\n",
        "\n",
        "        output = nn_my(X.view(-1,784))\n",
        "        for idx, i in enumerate(output):\n",
        "            if torch.argmax(i) == y[idx]:\n",
        "                correct_test += 1\n",
        "            total_test += 1\n",
        "    for data in train_dataloader:\n",
        "        X, y = data\n",
        "        X = X.float()\n",
        "        y =y.long()\n",
        "\n",
        "        output = nn_my(X.view(-1,784))\n",
        "        for idx, i in enumerate(output):\n",
        "            if torch.argmax(i) == y[idx]:\n",
        "                correct_train += 1\n",
        "            total_train += 1\n",
        "   output = nn_my(X.view(-1,784))  \n",
        "   test_loss = F.nll_loss(output, y)\n",
        "   score_on_test = round(correct_test/total_test, 3)\n",
        "   score_on_train = round(correct_train/total_train, 3)\n",
        "\n",
        "   return score_on_test,score_on_train,test_loss\n",
        "\n",
        "\n",
        "  \n",
        "\n"
      ],
      "metadata": {
        "id": "mq8YPP5JoFNG"
      },
      "execution_count": 49,
      "outputs": []
    },
    {
      "cell_type": "code",
      "source": [
        "def train_fc(max_epoch,model,optimaizer,loss_function):\n",
        "  for epoch in range(max_epoch):\n",
        "    for iter, (data,target) in enumerate(train_dataloader):\n",
        "      optimaizer.zero_grad()\n",
        "      data = data.float()\n",
        "      target =target.long()\n",
        "      nn_my.zero_grad()  \n",
        "      output = nn_my(data.view(-1,784))  \n",
        "      loss = F.nll_loss(output, target)\n",
        "      loss.backward() \n",
        "      optimaizer.step()\n",
        "      if (iter + epoch * len(train_dataloader)) % 5 == 0:\n",
        "        score_on_test,score_on_train,test_loss = metrics_fn()\n",
        "        print(f\"Iteration №: {iter + epoch * len(train_dataloader)}\")\n",
        "        print(f\"loss: {loss}\")\n",
        "        print(f\"test_loss: {test_loss}\")\n",
        "        print(f\"Score_on_test_dataset: {score_on_test}\")\n",
        "        print(f\"Score_on_train_dataset: {score_on_train}\")\n",
        "\n",
        "  return loss"
      ],
      "metadata": {
        "id": "jexqJVxh7B94"
      },
      "execution_count": 91,
      "outputs": []
    },
    {
      "cell_type": "code",
      "source": [
        "losses = train_fc(1, nn_my,optimaizer,loss_function)"
      ],
      "metadata": {
        "colab": {
          "base_uri": "https://localhost:8080/"
        },
        "id": "xNcWoXjFSEU0",
        "outputId": "eb52456d-911f-4f71-f508-7f6a420581f5"
      },
      "execution_count": 93,
      "outputs": [
        {
          "output_type": "stream",
          "name": "stdout",
          "text": [
            "Iteration №: 0\n",
            "loss: 0.19281239807605743\n",
            "test_loss: 0.7453464865684509\n",
            "Score_on_test_dataset: 0.916\n",
            "Score_on_train_dataset: 0.939\n",
            "Iteration №: 5\n",
            "loss: 0.20801511406898499\n",
            "test_loss: 0.192002072930336\n",
            "Score_on_test_dataset: 0.916\n",
            "Score_on_train_dataset: 0.938\n",
            "Iteration №: 10\n",
            "loss: 0.11152486503124237\n",
            "test_loss: 0.2419336885213852\n",
            "Score_on_test_dataset: 0.913\n",
            "Score_on_train_dataset: 0.937\n",
            "Iteration №: 15\n",
            "loss: 0.27836692333221436\n",
            "test_loss: 0.17189277708530426\n",
            "Score_on_test_dataset: 0.912\n",
            "Score_on_train_dataset: 0.936\n",
            "Iteration №: 20\n",
            "loss: 0.4780605733394623\n",
            "test_loss: 0.28226804733276367\n",
            "Score_on_test_dataset: 0.914\n",
            "Score_on_train_dataset: 0.937\n",
            "Iteration №: 25\n",
            "loss: 0.2888757288455963\n",
            "test_loss: 0.11272594332695007\n",
            "Score_on_test_dataset: 0.917\n",
            "Score_on_train_dataset: 0.939\n",
            "Iteration №: 30\n",
            "loss: 0.3123822808265686\n",
            "test_loss: 0.375681072473526\n",
            "Score_on_test_dataset: 0.915\n",
            "Score_on_train_dataset: 0.937\n",
            "Iteration №: 35\n",
            "loss: 0.12257411330938339\n",
            "test_loss: 0.11805469542741776\n",
            "Score_on_test_dataset: 0.916\n",
            "Score_on_train_dataset: 0.937\n",
            "Iteration №: 40\n",
            "loss: 0.1957937479019165\n",
            "test_loss: 0.3249489963054657\n",
            "Score_on_test_dataset: 0.915\n",
            "Score_on_train_dataset: 0.938\n",
            "Iteration №: 45\n",
            "loss: 0.16572245955467224\n",
            "test_loss: 0.12681858241558075\n",
            "Score_on_test_dataset: 0.917\n",
            "Score_on_train_dataset: 0.939\n",
            "Iteration №: 50\n",
            "loss: 0.18680164217948914\n",
            "test_loss: 0.15836139023303986\n",
            "Score_on_test_dataset: 0.916\n",
            "Score_on_train_dataset: 0.938\n",
            "Iteration №: 55\n",
            "loss: 0.4451509118080139\n",
            "test_loss: 0.47160518169403076\n",
            "Score_on_test_dataset: 0.918\n",
            "Score_on_train_dataset: 0.938\n",
            "Iteration №: 60\n",
            "loss: 0.12642571330070496\n",
            "test_loss: 0.21258674561977386\n",
            "Score_on_test_dataset: 0.919\n",
            "Score_on_train_dataset: 0.94\n",
            "Iteration №: 65\n",
            "loss: 0.13774433732032776\n",
            "test_loss: 0.4223058521747589\n",
            "Score_on_test_dataset: 0.917\n",
            "Score_on_train_dataset: 0.941\n",
            "Iteration №: 70\n",
            "loss: 0.43678343296051025\n",
            "test_loss: 0.46714529395103455\n",
            "Score_on_test_dataset: 0.914\n",
            "Score_on_train_dataset: 0.939\n",
            "Iteration №: 75\n",
            "loss: 0.2377110719680786\n",
            "test_loss: 0.2394101470708847\n",
            "Score_on_test_dataset: 0.916\n",
            "Score_on_train_dataset: 0.938\n",
            "Iteration №: 80\n",
            "loss: 0.2503434121608734\n",
            "test_loss: 0.10247200727462769\n",
            "Score_on_test_dataset: 0.917\n",
            "Score_on_train_dataset: 0.941\n",
            "Iteration №: 85\n",
            "loss: 0.22356602549552917\n",
            "test_loss: 0.29345056414604187\n",
            "Score_on_test_dataset: 0.915\n",
            "Score_on_train_dataset: 0.94\n",
            "Iteration №: 90\n",
            "loss: 0.33121201395988464\n",
            "test_loss: 0.41958150267601013\n",
            "Score_on_test_dataset: 0.916\n",
            "Score_on_train_dataset: 0.939\n",
            "Iteration №: 95\n",
            "loss: 0.14668944478034973\n",
            "test_loss: 0.15383565425872803\n",
            "Score_on_test_dataset: 0.916\n",
            "Score_on_train_dataset: 0.94\n",
            "Iteration №: 100\n",
            "loss: 0.20431530475616455\n",
            "test_loss: 0.22717469930648804\n",
            "Score_on_test_dataset: 0.913\n",
            "Score_on_train_dataset: 0.938\n",
            "Iteration №: 105\n",
            "loss: 0.3926822245121002\n",
            "test_loss: 0.3228309452533722\n",
            "Score_on_test_dataset: 0.916\n",
            "Score_on_train_dataset: 0.939\n",
            "Iteration №: 110\n",
            "loss: 0.43597108125686646\n",
            "test_loss: 0.23228375613689423\n",
            "Score_on_test_dataset: 0.916\n",
            "Score_on_train_dataset: 0.94\n",
            "Iteration №: 115\n",
            "loss: 0.141058087348938\n",
            "test_loss: 0.3402620255947113\n",
            "Score_on_test_dataset: 0.914\n",
            "Score_on_train_dataset: 0.937\n",
            "Iteration №: 120\n",
            "loss: 0.2490958869457245\n",
            "test_loss: 0.03658851236104965\n",
            "Score_on_test_dataset: 0.916\n",
            "Score_on_train_dataset: 0.941\n",
            "Iteration №: 125\n",
            "loss: 0.3537691533565521\n",
            "test_loss: 0.0776827409863472\n",
            "Score_on_test_dataset: 0.92\n",
            "Score_on_train_dataset: 0.943\n",
            "Iteration №: 130\n",
            "loss: 0.20722809433937073\n",
            "test_loss: 0.29739028215408325\n",
            "Score_on_test_dataset: 0.917\n",
            "Score_on_train_dataset: 0.941\n",
            "Iteration №: 135\n",
            "loss: 0.16552844643592834\n",
            "test_loss: 0.0860356017947197\n",
            "Score_on_test_dataset: 0.92\n",
            "Score_on_train_dataset: 0.944\n",
            "Iteration №: 140\n",
            "loss: 0.2314542829990387\n",
            "test_loss: 0.04897098243236542\n",
            "Score_on_test_dataset: 0.918\n",
            "Score_on_train_dataset: 0.945\n",
            "Iteration №: 145\n",
            "loss: 0.15247176587581635\n",
            "test_loss: 0.10270842164754868\n",
            "Score_on_test_dataset: 0.919\n",
            "Score_on_train_dataset: 0.945\n",
            "Iteration №: 150\n",
            "loss: 0.2810930609703064\n",
            "test_loss: 0.18731744587421417\n",
            "Score_on_test_dataset: 0.918\n",
            "Score_on_train_dataset: 0.945\n",
            "Iteration №: 155\n",
            "loss: 0.16129066050052643\n",
            "test_loss: 0.3658628463745117\n",
            "Score_on_test_dataset: 0.918\n",
            "Score_on_train_dataset: 0.945\n",
            "Iteration №: 160\n",
            "loss: 0.22920821607112885\n",
            "test_loss: 0.12361631542444229\n",
            "Score_on_test_dataset: 0.921\n",
            "Score_on_train_dataset: 0.944\n",
            "Iteration №: 165\n",
            "loss: 0.2965785264968872\n",
            "test_loss: 0.19558876752853394\n",
            "Score_on_test_dataset: 0.915\n",
            "Score_on_train_dataset: 0.943\n",
            "Iteration №: 170\n",
            "loss: 0.12391073256731033\n",
            "test_loss: 0.24745626747608185\n",
            "Score_on_test_dataset: 0.916\n",
            "Score_on_train_dataset: 0.942\n",
            "Iteration №: 175\n",
            "loss: 0.2191418558359146\n",
            "test_loss: 0.33046022057533264\n",
            "Score_on_test_dataset: 0.914\n",
            "Score_on_train_dataset: 0.943\n",
            "Iteration №: 180\n",
            "loss: 0.27076321840286255\n",
            "test_loss: 0.1773856282234192\n",
            "Score_on_test_dataset: 0.918\n",
            "Score_on_train_dataset: 0.944\n",
            "Iteration №: 185\n",
            "loss: 0.20113733410835266\n",
            "test_loss: 0.045947227627038956\n",
            "Score_on_test_dataset: 0.921\n",
            "Score_on_train_dataset: 0.947\n",
            "Iteration №: 190\n",
            "loss: 0.14797835052013397\n",
            "test_loss: 0.05138108506798744\n",
            "Score_on_test_dataset: 0.917\n",
            "Score_on_train_dataset: 0.943\n",
            "Iteration №: 195\n",
            "loss: 0.10560252517461777\n",
            "test_loss: 0.03910810500383377\n",
            "Score_on_test_dataset: 0.919\n",
            "Score_on_train_dataset: 0.944\n",
            "Iteration №: 200\n",
            "loss: 0.29992926120758057\n",
            "test_loss: 0.368396133184433\n",
            "Score_on_test_dataset: 0.92\n",
            "Score_on_train_dataset: 0.945\n",
            "Iteration №: 205\n",
            "loss: 0.11852296441793442\n",
            "test_loss: 0.14547672867774963\n",
            "Score_on_test_dataset: 0.92\n",
            "Score_on_train_dataset: 0.945\n",
            "Iteration №: 210\n",
            "loss: 0.21751579642295837\n",
            "test_loss: 0.4246329069137573\n",
            "Score_on_test_dataset: 0.919\n",
            "Score_on_train_dataset: 0.945\n",
            "Iteration №: 215\n",
            "loss: 0.08533953130245209\n",
            "test_loss: 0.062376752495765686\n",
            "Score_on_test_dataset: 0.92\n",
            "Score_on_train_dataset: 0.945\n",
            "Iteration №: 220\n",
            "loss: 0.15980584919452667\n",
            "test_loss: 0.24977298080921173\n",
            "Score_on_test_dataset: 0.921\n",
            "Score_on_train_dataset: 0.944\n",
            "Iteration №: 225\n",
            "loss: 0.15725119411945343\n",
            "test_loss: 0.35266175866127014\n",
            "Score_on_test_dataset: 0.921\n",
            "Score_on_train_dataset: 0.944\n",
            "Iteration №: 230\n",
            "loss: 0.10765744000673294\n",
            "test_loss: 0.04745602235198021\n",
            "Score_on_test_dataset: 0.922\n",
            "Score_on_train_dataset: 0.946\n"
          ]
        }
      ]
    },
    {
      "cell_type": "code",
      "source": [
        "#lets choose random number from test_dataset \n",
        "import random as lol\n",
        "\n",
        "number_rand = lol.randint(0,len(X_test))\n",
        "print(number_rand)"
      ],
      "metadata": {
        "colab": {
          "base_uri": "https://localhost:8080/"
        },
        "id": "X2YuEBEd_6I4",
        "outputId": "f5c2de24-60ac-4a3e-9342-58f623d783ab"
      },
      "execution_count": 87,
      "outputs": [
        {
          "output_type": "stream",
          "name": "stdout",
          "text": [
            "4225\n"
          ]
        }
      ]
    },
    {
      "cell_type": "code",
      "source": [
        "# some_digit.reshape(28, 28)\n",
        "some_number= (X_test[number_rand]/255.0).reshape(28,28)\n",
        "some_number1 = X_test_t[number_rand].float()\n",
        "output = nn_my(some_number1.view(-1,784)) \n",
        "pred = output[0]\n",
        "index_is = torch.argmax(pred)\n",
        "plt.title(f\"predict number is :{index_is}, so real number is {y_test[number_rand]}\")\n",
        "plt.imshow(some_number)\n",
        "plt.show()\n"
      ],
      "metadata": {
        "colab": {
          "base_uri": "https://localhost:8080/",
          "height": 280
        },
        "id": "1Qrm0UN9ygKb",
        "outputId": "c222a9ea-ef17-44ef-f01a-dbdcb6809729"
      },
      "execution_count": 88,
      "outputs": [
        {
          "output_type": "display_data",
          "data": {
            "text/plain": [
              "<Figure size 432x288 with 1 Axes>"
            ],
            "image/png": "[encoded data removed]"
          },
          "metadata": {
            "needs_background": "light"
          }
        }
      ]
    },
    {
      "cell_type": "markdown",
      "source": [
        "#So today we have done here"
      ],
      "metadata": {
        "id": "EYKDiJv2_lIp"
      }
    }
  ]
}